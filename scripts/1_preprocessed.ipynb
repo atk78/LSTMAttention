{
 "cells": [
  {
   "cell_type": "code",
   "execution_count": 2,
   "id": "c69c66d9",
   "metadata": {},
   "outputs": [
    {
     "name": "stdout",
     "output_type": "stream",
     "text": [
      "前処理前のサンプル数: 628\n",
      "前処理後のサンプル数: 628\n"
     ]
    }
   ],
   "source": [
    "import pandas as pd\n",
    "from rdkit import Chem\n",
    "\n",
    "permitted_atomes = [\"B\", \"C\", \"N\", \"O\", \"S\", \"P\", \"F\", \"Cl\", \"Br\", \"I\"] + [\"*\"]\n",
    "permitted_atomes_set = set(permitted_atomes)\n",
    "\n",
    "property_name = \"FreeSolv\"\n",
    "file_path = f\"./../data/raw/{property_name}.csv\"\n",
    "smiles_col_name = \"smiles\"\n",
    "prop_col_name = \"expt\"\n",
    "\n",
    "df = pd.read_csv(file_path)\n",
    "df = df[[smiles_col_name, prop_col_name]]\n",
    "print(\"前処理前のサンプル数:\", len(df))\n",
    "def check_atoms(smiles):\n",
    "    try:\n",
    "        mol = Chem.MolFromSmiles(smiles)\n",
    "        atoms_set = set([atom.GetSymbol() for atom in mol.GetAtoms()])\n",
    "        isin = permitted_atomes_set > atoms_set\n",
    "        if isin:\n",
    "            return smiles\n",
    "        else:\n",
    "            return None\n",
    "    except:\n",
    "        return None\n",
    "\n",
    "df[smiles_col_name] = df[smiles_col_name].map(check_atoms)\n",
    "df = df.dropna().reset_index(drop=True)\n",
    "df.to_csv(f\"./../data/processed/{property_name}.csv\", index=False)\n",
    "print(\"前処理後のサンプル数:\", len(df))"
   ]
  }
 ],
 "metadata": {
  "kernelspec": {
   "display_name": ".venv",
   "language": "python",
   "name": "python3"
  },
  "language_info": {
   "codemirror_mode": {
    "name": "ipython",
    "version": 3
   },
   "file_extension": ".py",
   "mimetype": "text/x-python",
   "name": "python",
   "nbconvert_exporter": "python",
   "pygments_lexer": "ipython3",
   "version": "3.12.10"
  }
 },
 "nbformat": 4,
 "nbformat_minor": 5
}
