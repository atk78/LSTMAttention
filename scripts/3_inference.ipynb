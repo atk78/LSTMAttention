{
 "cells": [
  {
   "cell_type": "code",
   "execution_count": null,
   "id": "62945f2c",
   "metadata": {},
   "outputs": [
    {
     "data": {
      "text/plain": [
       "{'OCCO': -9.82214069366455,\n",
       " 'CCO': -4.971174716949463,\n",
       " 'c1ccccc1': -1.1854928731918335,\n",
       " 'CNc1ccccc1': -4.490200042724609}"
      ]
     },
     "execution_count": 1,
     "metadata": {},
     "output_type": "execute_result"
    }
   ],
   "source": [
    "import torch\n",
    "\n",
    "from lstm_attention.inference import inference\n",
    "\n",
    "\n",
    "model_dir_path = \"./../models/FreeSolv\"\n",
    "smiles_list = [\n",
    "    \"OCCO\",\n",
    "    \"CCO\",\n",
    "    \"c1ccccc1\",\n",
    "    \"CNc1ccccc1\"\n",
    "]\n",
    "device = torch.device(\"cuda\" if torch.cuda.is_available() else \"cpu\")\n",
    "results = inference(model_dir_path, smiles_list, device)\n",
    "results"
   ]
  },
  {
   "cell_type": "code",
   "execution_count": null,
   "id": "a6cb1b1b",
   "metadata": {},
   "outputs": [],
   "source": []
  }
 ],
 "metadata": {
  "kernelspec": {
   "display_name": ".venv",
   "language": "python",
   "name": "python3"
  },
  "language_info": {
   "codemirror_mode": {
    "name": "ipython",
    "version": 3
   },
   "file_extension": ".py",
   "mimetype": "text/x-python",
   "name": "python",
   "nbconvert_exporter": "python",
   "pygments_lexer": "ipython3",
   "version": "3.12.10"
  }
 },
 "nbformat": 4,
 "nbformat_minor": 5
}
